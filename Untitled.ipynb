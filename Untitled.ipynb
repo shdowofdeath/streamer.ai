{
 "cells": [
  {
   "cell_type": "code",
   "execution_count": 12,
   "metadata": {},
   "outputs": [
    {
     "name": "stdout",
     "output_type": "stream",
     "text": [
      "Loading training images for the label: Black\n",
      "Loading training images for the label: Blue\n",
      "Loading training images for the label: Brown\n",
      "Loading training images for the label: Green\n",
      "Loading training images for the label: Orange\n",
      "Loading training images for the label: Pink\n",
      "Loading training images for the label: Red\n",
      "Loading training images for the label: White\n",
      "Loading training images for the label: Yellow\n",
      "Color: Black\n",
      "Type: Shirt\n"
     ]
    }
   ],
   "source": [
    "import streamlit as st\n",
    "import numpy as np\n",
    "from PIL import Image , ImageOps\n",
    "from keras.preprocessing import image\n",
    "import cv2 \n",
    "from tensorflow import keras\n",
    "import tensorflow as tf\n",
    "import os\n",
    "def averagecolor(image):\n",
    "    return np.mean(image, axis=(0, 1))\n",
    "trainX2 = []\n",
    "trainY2 = []\n",
    "\n",
    "path = \"Clothes2/\"\n",
    "for label in ('Black', 'Blue', 'Brown', 'Green', 'Orange', 'Pink','Red', 'White', 'Yellow'):\n",
    "    print (\"Loading training images for the label: \"+label)\n",
    "    \n",
    "    #Load all images inside the subfolder\n",
    "    for filename in os.listdir(path+\"/\"+label+\"/\"): \n",
    "        img = cv2.imread(path+label+\"/\"+filename)\n",
    "        img_features = averagecolor(img)\n",
    "        trainX2.append(img_features)\n",
    "        trainY2.append(label)\n",
    "        \n",
    "path = \"test\"\n",
    "filenames = []\n",
    "predictedY = []\n",
    "for filename in os.listdir(path+\"/\"): \n",
    "    img = cv2.imread(path+\"/\"+filename)\n",
    "    img_features = averagecolor(img)\n",
    "    calculated_distances = []\n",
    "    for card in (trainX2):\n",
    "        calculated_distances.append(np.linalg.norm(img_features-card))\n",
    "    prediction =  trainY2[np.argmin(calculated_distances)]\n",
    "    \n",
    "    print (filename + \": \" + prediction)\n",
    "    filenames.append(filename)\n",
    "    predictedY.append(prediction)\n",
    "model = tf.keras.models.load_model(\"elhays-test-modle.h5\")\n",
    "lbls = ['T-shirt/top', 'Trouser', 'Pullover', 'Dress', 'Coat', 'Sandal', 'Shirt', 'Sneaker', 'Bag', 'Ankle boot']\n",
    "filename = \"Buttoned.jpg\"\n",
    "predictedY = []\n",
    "img = cv2.imread(filename)\n",
    "img_features = averagecolor(img)\n",
    "calculated_distances= []\n",
    "for card in (trainX2):\n",
    "    calculated_distances.append(np.linalg.norm(img_features-card))\n",
    "prediction =  trainY2[np.argmin(calculated_distances)]\n",
    "print ('Color:', prediction)\n",
    "filenames.append(filename)\n",
    "# plt.imshow(img)\n",
    "\n",
    "x=[]\n",
    "img = image.load_img(filename, color_mode = \"grayscale\", target_size=(28, 28))\n",
    "img = image.img_to_array(img)\n",
    "img = img.reshape(28, 28)\n",
    "img = img.astype('float32')\n",
    "img = (255-img)/255.0\n",
    "x.append(img)\n",
    "x=np.array(x)\n",
    "result = np.argmax(model.predict(x), axis=-1)\n",
    "for i in range(len(result)):\n",
    " print('Type:', lbls[result[i]])"
   ]
  },
  {
   "cell_type": "code",
   "execution_count": 2,
   "metadata": {},
   "outputs": [
    {
     "name": "stdout",
     "output_type": "stream",
     "text": [
      "Loading training images for the label: Black\n",
      "Loading training images for the label: Blue\n",
      "Loading training images for the label: Brown\n",
      "Loading training images for the label: Green\n",
      "Loading training images for the label: Orange\n",
      "Loading training images for the label: Pink\n",
      "Loading training images for the label: Red\n",
      "Loading training images for the label: White\n",
      "Loading training images for the label: Yellow\n"
     ]
    }
   ],
   "source": []
  },
  {
   "cell_type": "code",
   "execution_count": 5,
   "metadata": {},
   "outputs": [],
   "source": []
  },
  {
   "cell_type": "code",
   "execution_count": 11,
   "metadata": {},
   "outputs": [
    {
     "name": "stdout",
     "output_type": "stream",
     "text": [
      "Color: Black\n",
      "Type: Shirt\n"
     ]
    }
   ],
   "source": []
  }
 ],
 "metadata": {
  "kernelspec": {
   "display_name": "Python 3",
   "language": "python",
   "name": "python3"
  },
  "language_info": {
   "codemirror_mode": {
    "name": "ipython",
    "version": 3
   },
   "file_extension": ".py",
   "mimetype": "text/x-python",
   "name": "python",
   "nbconvert_exporter": "python",
   "pygments_lexer": "ipython3",
   "version": "3.7.0"
  }
 },
 "nbformat": 4,
 "nbformat_minor": 4
}
