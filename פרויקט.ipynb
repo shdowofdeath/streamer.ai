{
  "nbformat": 4,
  "nbformat_minor": 0,
  "metadata": {
    "colab": {
      "name": "פרויקט.ipynb",
      "provenance": [],
      "collapsed_sections": []
    },
    "kernelspec": {
      "display_name": "Python 3",
      "name": "python3"
    },
    "language_info": {
      "name": "python"
    }
  },
  "cells": [
    {
      "cell_type": "markdown",
      "metadata": {
        "id": "HBkNcILSZq92"
      },
      "source": [
        "1. לשנות שמות של התמונות לשמות באנגלית\n",
        "2. מטריצה של כל הדוגמאות(מחברת 20), הפיקסלים של התמונות\n",
        "3. לתייג תמונות(מחברת 20)\n",
        "4. לזהות צבעים\n",
        "5. לזהות פריט\n"
      ]
    },
    {
      "cell_type": "markdown",
      "metadata": {
        "id": "CkLvDqE0rpnr"
      },
      "source": [
        "יבוא כל הספריות"
      ]
    },
    {
      "cell_type": "code",
      "metadata": {
        "colab": {
          "base_uri": "https://localhost:8080/"
        },
        "id": "utgml3v9NhoR",
        "outputId": "9b8e1ed0-a186-4eee-c14a-046aecb9b287"
      },
      "source": [
        "import pandas as pd\n",
        "import numpy as np\n",
        "import seaborn as sns\n",
        "import matplotlib.pyplot as plt\n",
        "import matplotlib.image as mpimg\n",
        "import cv2 \n",
        "from sklearn.neighbors import KNeighborsClassifier\n",
        "from sklearn import tree\n",
        "from sklearn.preprocessing import StandardScaler\n",
        "import os\n",
        "import tensorflow as tf\n",
        "from sklearn.metrics import classification_report\n",
        "from keras.preprocessing import image\n",
        "import glob\n",
        "from tensorflow import keras\n",
        "print(tf.__version__)"
      ],
      "execution_count": null,
      "outputs": [
        {
          "output_type": "stream",
          "text": [
            "2.5.0\n"
          ],
          "name": "stdout"
        }
      ]
    },
    {
      "cell_type": "code",
      "metadata": {
        "colab": {
          "base_uri": "https://localhost:8080/"
        },
        "id": "MSSujXUYuVQ0",
        "outputId": "48bb6539-414e-4126-c242-52d137a52782"
      },
      "source": [
        "from google.colab import drive\n",
        "drive.mount('/content/drive')"
      ],
      "execution_count": null,
      "outputs": [
        {
          "output_type": "stream",
          "text": [
            "Drive already mounted at /content/drive; to attempt to forcibly remount, call drive.mount(\"/content/drive\", force_remount=True).\n"
          ],
          "name": "stdout"
        }
      ]
    },
    {
      "cell_type": "code",
      "metadata": {
        "colab": {
          "base_uri": "https://localhost:8080/"
        },
        "id": "Q3X_Qf2JaPCp",
        "outputId": "77de6dd1-53e0-4ef3-cb3f-043a8dd7172f"
      },
      "source": [
        "os.chdir(\"/content/drive/My Drive\")\n",
        "!ls"
      ],
      "execution_count": null,
      "outputs": [
        {
          "output_type": "stream",
          "text": [
            " 2020-10-18-20-37-40\n",
            " AI.gform\n",
            " all_seasons.csv\n",
            " basketball_land.il\n",
            "'Buttoned (29).jpg'\n",
            "'CamScanner 12-05-2020 16.39 (1).pdf'\n",
            "'CamScanner 12-05-2020 16.39 (2).pdf'\n",
            "'CamScanner 12-05-2020 16.39.pdf'\n",
            " Classroom\n",
            " Clothes2\n",
            "'Clothes for the project'\n",
            "'Clothes for the project (1)'\n",
            "'Colab Notebooks'\n",
            "'Collective (1).gslides'\n",
            " Collective.gslides\n",
            " Project\n",
            " SEKER.gsheet\n",
            " TEST\n",
            "'אישור מחלה'\n",
            "'ארץ הכדורסל-בחירות לאולסטאר ליגת ווינר סל 2021.gform'\n",
            "'גיליון ללא שם.gsheet'\n",
            " הברדלס.gslides\n",
            " הברדלס.pptx\n",
            "'הרצאה לכיתה.gslides'\n",
            "'הרצאה לכיתה.pptx'\n",
            "'חיישן זרימת מים.ino'\n",
            "'חיישן לחות באוויר ארדואינו.ino'\n",
            "'חיישן לחות בקרקע ארדואינו.ino'\n",
            "'טופס ללא כותרת.gform'\n",
            "'מחוון מושגים תנאים לבחירות וזכויות-האדם .gdoc'\n",
            "'מי אנחנו ומה אנחנו (1).gdoc'\n",
            "'מי אנחנו ומה אנחנו.docx'\n",
            "'מי אנחנו ומה אנחנו.gdoc'\n",
            "'מסמך ללא כותרת (1).gdoc'\n",
            "'מסמך ללא כותרת (2).gdoc'\n",
            "'מסמך ללא כותרת (3).gdoc'\n",
            "'מסמך ללא כותרת.gdoc'\n",
            "'עותק של טופס ללא כותרת .gform'\n",
            " פרויקט.ipynb\n",
            "'רעיון מספר 1.docx'\n",
            "'תשובות סקר.gsheet'\n"
          ],
          "name": "stdout"
        }
      ]
    },
    {
      "cell_type": "markdown",
      "metadata": {
        "id": "DBDl8v29ruEr"
      },
      "source": [
        "ניסיון קליטת תמונה"
      ]
    },
    {
      "cell_type": "markdown",
      "metadata": {
        "id": "M8jBYbAkvvWD"
      },
      "source": [
        "תחילת קוד"
      ]
    },
    {
      "cell_type": "code",
      "metadata": {
        "colab": {
          "base_uri": "https://localhost:8080/"
        },
        "id": "Z2STlrYXs1Aq",
        "outputId": "e6c12212-a105-4234-d3cd-85dd91f7fb82"
      },
      "source": [
        "#תיוג צבעים\n",
        "def averagecolor(image):\n",
        "    return np.mean(image, axis=(0, 1))\n",
        "trainX2 = []\n",
        "trainY2 = []\n",
        "\n",
        "path = \"Clothes2/\"\n",
        "for label in ('Black', 'Blue', 'Brown', 'Green', 'Orange', 'Pink','Red', 'White', 'Yellow'):\n",
        "    print (\"Loading training images for the label: \"+label)\n",
        "    \n",
        "    #Load all images inside the subfolder\n",
        "    for filename in os.listdir(path+\"/\"+label+\"/\"): \n",
        "        img = cv2.imread(path+label+\"/\"+filename)\n",
        "        img_features = averagecolor(img)\n",
        "        trainX2.append(img_features)\n",
        "        trainY2.append(label)"
      ],
      "execution_count": null,
      "outputs": [
        {
          "output_type": "stream",
          "text": [
            "Loading training images for the label: Black\n",
            "Loading training images for the label: Blue\n",
            "Loading training images for the label: Brown\n",
            "Loading training images for the label: Green\n",
            "Loading training images for the label: Orange\n",
            "Loading training images for the label: Pink\n",
            "Loading training images for the label: Red\n",
            "Loading training images for the label: White\n",
            "Loading training images for the label: Yellow\n"
          ],
          "name": "stdout"
        }
      ]
    },
    {
      "cell_type": "code",
      "metadata": {
        "colab": {
          "base_uri": "https://localhost:8080/"
        },
        "id": "NRxu8pcPd0R5",
        "outputId": "e38d11f6-a03e-496e-c0f8-c4dc08f88fd9"
      },
      "source": [
        "#בדיקת צבעים\n",
        "path = \"TEST\"\n",
        "filenames = []\n",
        "predictedY = []\n",
        "for filename in os.listdir(path+\"/\"): \n",
        "    img = cv2.imread(path+\"/\"+filename)\n",
        "    img_features = averagecolor(img)\n",
        "    calculated_distances = []\n",
        "    for card in (trainX2):\n",
        "        calculated_distances.append(np.linalg.norm(img_features-card))\n",
        "    prediction =  trainY2[np.argmin(calculated_distances)]\n",
        "    \n",
        "    print (filename + \": \" + prediction)\n",
        "    filenames.append(filename)\n",
        "    predictedY.append(prediction)"
      ],
      "execution_count": null,
      "outputs": [
        {
          "output_type": "stream",
          "text": [
            "Shirt (35).jpg: Red\n",
            "Sports shirt (34).jpg: Yellow\n",
            "Sport shoes (33).jpg: Pink\n",
            "Sports shirt (32).jpg: Blue\n",
            "Sweatshirt (31).jpg: Black\n",
            "Polo (30).jpg: Black\n",
            "Sport sweatshirt (28).jpg: Red\n",
            "Long sport shirt (27).jpg: Black\n",
            "Sport Sweatshirt (26).jpg: Orange\n",
            "Jacket (25).jpg: Black\n",
            "Sports shirt (24).jpg: Black\n",
            "Long sport shirt (23).jpg: Pink\n",
            "Shirt (22).jpg: Blue\n",
            "Formal pants (21).jpg: Black\n",
            "Sweatshirt (20).jpg: Blue\n",
            "Formal pants (19).jpg: Red\n",
            "Long sport pants (18).jpg: Black\n",
            "Long Sweatshirt (17).jpg: Blue\n",
            "Sport sweatshirt (16).jpg: Black\n",
            "Sports shirt (15).jpg: White\n",
            "Sweatshirt (14).jpg: Green\n",
            "Sport sweatshirt (13).jpg: Black\n",
            "Sports shirt (12).jpg: Black\n",
            "Sport shoes (11).PNG: Brown\n",
            "Sport shoes (10).PNG: Black\n",
            "Swim suit (9).PNG: Blue\n",
            "Dress (8).PNG: Red\n",
            "Sport shoes (7).PNG: White\n",
            "Sport socks (6).PNG: White\n",
            "Under pants (5).PNG: Blue\n",
            "Under pants (4).PNG: Black\n",
            "Sports shirt (3).PNG: White\n",
            "Sports shirt (2).PNG: Brown\n",
            "Sport pants (1).PNG: Blue\n"
          ],
          "name": "stdout"
        }
      ]
    },
    {
      "cell_type": "markdown",
      "metadata": {
        "id": "qJ534oBQyjgh"
      },
      "source": [
        "סיווג על פי סוג בגד"
      ]
    },
    {
      "cell_type": "code",
      "metadata": {
        "colab": {
          "base_uri": "https://localhost:8080/"
        },
        "id": "ZshzyWf4xY-n",
        "outputId": "74de6aca-7a4f-4a85-8eb3-dde11625efbb"
      },
      "source": [
        "fashion_mnist = tf.keras.datasets.fashion_mnist\n",
        "(train_images, train_labels), (test_images, test_labels) = fashion_mnist.load_data()\n",
        "class_names = ['T-shirt/top', 'Trouser', 'Pullover', 'Dress', 'Coat',\n",
        "               'Sandal', 'Shirt', 'Sneaker', 'Bag', 'Ankle boot']\n",
        "           "
      ],
      "execution_count": null,
      "outputs": [
        {
          "output_type": "stream",
          "text": [
            "Downloading data from https://storage.googleapis.com/tensorflow/tf-keras-datasets/train-labels-idx1-ubyte.gz\n",
            "32768/29515 [=================================] - 0s 0us/step\n",
            "Downloading data from https://storage.googleapis.com/tensorflow/tf-keras-datasets/train-images-idx3-ubyte.gz\n",
            "26427392/26421880 [==============================] - 0s 0us/step\n",
            "Downloading data from https://storage.googleapis.com/tensorflow/tf-keras-datasets/t10k-labels-idx1-ubyte.gz\n",
            "8192/5148 [===============================================] - 0s 0us/step\n",
            "Downloading data from https://storage.googleapis.com/tensorflow/tf-keras-datasets/t10k-images-idx3-ubyte.gz\n",
            "4423680/4422102 [==============================] - 0s 0us/step\n"
          ],
          "name": "stdout"
        }
      ]
    },
    {
      "cell_type": "code",
      "metadata": {
        "colab": {
          "base_uri": "https://localhost:8080/",
          "height": 35
        },
        "id": "TrBpG5JGx4TR",
        "outputId": "511d729d-b189-40c0-f826-19437342b22c"
      },
      "source": [
        "'''train_images.shape\n",
        "len(train_labels)\n",
        "train_labels\n",
        "test_images.shape\n",
        "len(test_labels)'''"
      ],
      "execution_count": null,
      "outputs": [
        {
          "output_type": "execute_result",
          "data": {
            "application/vnd.google.colaboratory.intrinsic+json": {
              "type": "string"
            },
            "text/plain": [
              "'train_images.shape\\nlen(train_labels)\\ntrain_labels\\ntest_images.shape\\nlen(test_labels)'"
            ]
          },
          "metadata": {
            "tags": []
          },
          "execution_count": 7
        }
      ]
    },
    {
      "cell_type": "code",
      "metadata": {
        "colab": {
          "base_uri": "https://localhost:8080/",
          "height": 35
        },
        "id": "AWXfSYMLydGU",
        "outputId": "31690434-0089-4c59-a121-d2a2c86f0973"
      },
      "source": [
        "'''plt.figure()\n",
        "plt.imshow(train_images[0])\n",
        "plt.colorbar()\n",
        "plt.grid(False)\n",
        "plt.show()'''"
      ],
      "execution_count": null,
      "outputs": [
        {
          "output_type": "execute_result",
          "data": {
            "application/vnd.google.colaboratory.intrinsic+json": {
              "type": "string"
            },
            "text/plain": [
              "'plt.figure()\\nplt.imshow(train_images[0])\\nplt.colorbar()\\nplt.grid(False)\\nplt.show()'"
            ]
          },
          "metadata": {
            "tags": []
          },
          "execution_count": 8
        }
      ]
    },
    {
      "cell_type": "code",
      "metadata": {
        "id": "2f5x5yUeygDb",
        "colab": {
          "base_uri": "https://localhost:8080/",
          "height": 35
        },
        "outputId": "bb08e305-62cc-4888-ce80-91d717509d3c"
      },
      "source": [
        "'''train_images = train_images / 255.0\n",
        "\n",
        "test_images = test_images / 255.0'''"
      ],
      "execution_count": null,
      "outputs": [
        {
          "output_type": "execute_result",
          "data": {
            "application/vnd.google.colaboratory.intrinsic+json": {
              "type": "string"
            },
            "text/plain": [
              "'train_images = train_images / 255.0\\n\\ntest_images = test_images / 255.0'"
            ]
          },
          "metadata": {
            "tags": []
          },
          "execution_count": 9
        }
      ]
    },
    {
      "cell_type": "code",
      "metadata": {
        "colab": {
          "base_uri": "https://localhost:8080/",
          "height": 52
        },
        "id": "bbtlhFkkyp2C",
        "outputId": "49517532-7404-4c85-aaa1-4036ddde9a02"
      },
      "source": [
        "'''plt.figure(figsize=(10,10))\n",
        "for i in range(25):\n",
        "    plt.subplot(5,5,i+1)\n",
        "    plt.xticks([])\n",
        "    plt.yticks([])\n",
        "    plt.grid(False)\n",
        "    plt.imshow(train_images[i], cmap=plt.cm.binary)\n",
        "    plt.xlabel(class_names[train_labels[i]])\n",
        "plt.show()'''"
      ],
      "execution_count": null,
      "outputs": [
        {
          "output_type": "execute_result",
          "data": {
            "application/vnd.google.colaboratory.intrinsic+json": {
              "type": "string"
            },
            "text/plain": [
              "'plt.figure(figsize=(10,10))\\nfor i in range(25):\\n    plt.subplot(5,5,i+1)\\n    plt.xticks([])\\n    plt.yticks([])\\n    plt.grid(False)\\n    plt.imshow(train_images[i], cmap=plt.cm.binary)\\n    plt.xlabel(class_names[train_labels[i]])\\nplt.show()'"
            ]
          },
          "metadata": {
            "tags": []
          },
          "execution_count": 10
        }
      ]
    },
    {
      "cell_type": "code",
      "metadata": {
        "id": "7yK5rHkRzCWC"
      },
      "source": [
        "model = tf.keras.Sequential([\n",
        "    tf.keras.layers.Flatten(input_shape=(28, 28)),\n",
        "    tf.keras.layers.Dense(128, activation='relu'),\n",
        "    tf.keras.layers.Dense(10)\n",
        "])"
      ],
      "execution_count": null,
      "outputs": []
    },
    {
      "cell_type": "code",
      "metadata": {
        "id": "yiZhbgbxzFDf"
      },
      "source": [
        "model.compile(optimizer='adam',\n",
        "              loss=tf.keras.losses.SparseCategoricalCrossentropy(from_logits=True),\n",
        "              metrics=['accuracy'])"
      ],
      "execution_count": null,
      "outputs": []
    },
    {
      "cell_type": "code",
      "metadata": {
        "colab": {
          "base_uri": "https://localhost:8080/"
        },
        "id": "9qrvIeDazGK0",
        "outputId": "38bdb3dc-9c37-4646-94c4-4c16e8cdfc59"
      },
      "source": [
        "model.fit(train_images, train_labels, epochs=10)"
      ],
      "execution_count": null,
      "outputs": [
        {
          "output_type": "stream",
          "text": [
            "Epoch 1/10\n",
            "1875/1875 [==============================] - 5s 2ms/step - loss: 3.6294 - accuracy: 0.7315\n",
            "Epoch 2/10\n",
            "1875/1875 [==============================] - 4s 2ms/step - loss: 0.5922 - accuracy: 0.7921\n",
            "Epoch 3/10\n",
            "1875/1875 [==============================] - 4s 2ms/step - loss: 0.5430 - accuracy: 0.8099\n",
            "Epoch 4/10\n",
            "1875/1875 [==============================] - 4s 2ms/step - loss: 0.5246 - accuracy: 0.8198\n",
            "Epoch 5/10\n",
            "1875/1875 [==============================] - 4s 2ms/step - loss: 0.5031 - accuracy: 0.8290\n",
            "Epoch 6/10\n",
            "1875/1875 [==============================] - 4s 2ms/step - loss: 0.4807 - accuracy: 0.8336\n",
            "Epoch 7/10\n",
            "1875/1875 [==============================] - 4s 2ms/step - loss: 0.4729 - accuracy: 0.8389\n",
            "Epoch 8/10\n",
            "1875/1875 [==============================] - 5s 2ms/step - loss: 0.4682 - accuracy: 0.8404\n",
            "Epoch 9/10\n",
            "1875/1875 [==============================] - 4s 2ms/step - loss: 0.4601 - accuracy: 0.8418\n",
            "Epoch 10/10\n",
            "1875/1875 [==============================] - 4s 2ms/step - loss: 0.4604 - accuracy: 0.8430\n"
          ],
          "name": "stdout"
        },
        {
          "output_type": "execute_result",
          "data": {
            "text/plain": [
              "<tensorflow.python.keras.callbacks.History at 0x7f6f3e481f50>"
            ]
          },
          "metadata": {
            "tags": []
          },
          "execution_count": 13
        }
      ]
    },
    {
      "cell_type": "code",
      "metadata": {
        "colab": {
          "base_uri": "https://localhost:8080/"
        },
        "id": "JkIKOj9W1MBt",
        "outputId": "19906f4a-f35c-4650-dc9b-1a5a9af648db"
      },
      "source": [
        "test_loss, test_acc = model.evaluate(test_images,  test_labels, verbose=2)\n",
        "\n",
        "print('\\nTest accuracy:', test_acc)"
      ],
      "execution_count": null,
      "outputs": [
        {
          "output_type": "stream",
          "text": [
            "313/313 - 0s - loss: 0.5069 - accuracy: 0.8371\n",
            "\n",
            "Test accuracy: 0.8371000289916992\n"
          ],
          "name": "stdout"
        }
      ]
    },
    {
      "cell_type": "code",
      "metadata": {
        "colab": {
          "base_uri": "https://localhost:8080/"
        },
        "id": "de5lvJsj1RPQ",
        "outputId": "8f39ab03-e0c1-4d07-f9c7-4259b580c87a"
      },
      "source": [
        "probability_model = tf.keras.Sequential([model, \n",
        "                                         tf.keras.layers.Softmax()])\n",
        "predictions = probability_model.predict(test_images)\n",
        "predictions[0]\n"
      ],
      "execution_count": null,
      "outputs": [
        {
          "output_type": "execute_result",
          "data": {
            "text/plain": [
              "array([1.3278831e-21, 5.3730851e-20, 0.0000000e+00, 1.6813884e-22,\n",
              "       0.0000000e+00, 1.5222667e-01, 0.0000000e+00, 3.8908325e-02,\n",
              "       7.4043644e-12, 8.0886501e-01], dtype=float32)"
            ]
          },
          "metadata": {
            "tags": []
          },
          "execution_count": 15
        }
      ]
    },
    {
      "cell_type": "code",
      "metadata": {
        "colab": {
          "base_uri": "https://localhost:8080/",
          "height": 35
        },
        "id": "n2tjRv0n1al3",
        "outputId": "d8fc5989-ca0a-4a55-ec71-95c1ceca970b"
      },
      "source": [
        "'''np.argmax(predictions[0])\n",
        "test_labels[0]'''\n"
      ],
      "execution_count": null,
      "outputs": [
        {
          "output_type": "execute_result",
          "data": {
            "application/vnd.google.colaboratory.intrinsic+json": {
              "type": "string"
            },
            "text/plain": [
              "'np.argmax(predictions[0])\\ntest_labels[0]'"
            ]
          },
          "metadata": {
            "tags": []
          },
          "execution_count": 16
        }
      ]
    },
    {
      "cell_type": "code",
      "metadata": {
        "id": "is5YVRjQ1gNi"
      },
      "source": [
        "def plot_image(i, predictions_array, true_label, img):\n",
        "  true_label, img = true_label[i], img[i]\n",
        "  plt.grid(False)\n",
        "  plt.xticks([])\n",
        "  plt.yticks([])\n",
        "\n",
        "  plt.imshow(img, cmap=plt.cm.binary)\n",
        "\n",
        "  predicted_label = np.argmax(predictions_array)\n",
        "  if predicted_label == true_label:\n",
        "    color = 'blue'\n",
        "  else:\n",
        "    color = 'red'\n",
        "\n",
        "  plt.xlabel(\"{} {:2.0f}% ({})\".format(class_names[predicted_label],\n",
        "                                100*np.max(predictions_array),\n",
        "                                class_names[true_label]),\n",
        "                                color=color)\n",
        "\n",
        "def plot_value_array(i, predictions_array, true_label):\n",
        "  true_label = true_label[i]\n",
        "  plt.grid(False)\n",
        "  plt.xticks(range(10))\n",
        "  plt.yticks([])\n",
        "  thisplot = plt.bar(range(10), predictions_array, color=\"#777777\")\n",
        "  plt.ylim([0, 1])\n",
        "  predicted_label = np.argmax(predictions_array)\n",
        "\n",
        "  thisplot[predicted_label].set_color('red')\n",
        "  thisplot[true_label].set_color('blue')"
      ],
      "execution_count": null,
      "outputs": []
    },
    {
      "cell_type": "code",
      "metadata": {
        "colab": {
          "base_uri": "https://localhost:8080/",
          "height": 52
        },
        "id": "70HjN3Ev1hts",
        "outputId": "ae6ae62b-3fd1-436e-f9bc-ecc8380b1540"
      },
      "source": [
        "'''i=0 \n",
        "plt.figure(figsize=(6,3))\n",
        "plt.subplot(1,2,1)\n",
        "plot_image(i, predictions[i], test_labels, test_images)\n",
        "plt.subplot(1,2,2)\n",
        "plot_value_array(i, predictions[i],  test_labels)\n",
        "plt.show()'''"
      ],
      "execution_count": null,
      "outputs": [
        {
          "output_type": "execute_result",
          "data": {
            "application/vnd.google.colaboratory.intrinsic+json": {
              "type": "string"
            },
            "text/plain": [
              "'i=0 \\nplt.figure(figsize=(6,3))\\nplt.subplot(1,2,1)\\nplot_image(i, predictions[i], test_labels, test_images)\\nplt.subplot(1,2,2)\\nplot_value_array(i, predictions[i],  test_labels)\\nplt.show()'"
            ]
          },
          "metadata": {
            "tags": []
          },
          "execution_count": 18
        }
      ]
    },
    {
      "cell_type": "code",
      "metadata": {
        "colab": {
          "base_uri": "https://localhost:8080/",
          "height": 69
        },
        "id": "AbvLQpqv1pd2",
        "outputId": "4e1097ce-5411-4c6d-ced0-df0ca4625d4e"
      },
      "source": [
        "# Plot the first X test images, their predicted labels, and the true labels.\n",
        "# Color correct predictions in blue and incorrect predictions in red.\n",
        "'''num_rows = 5\n",
        "num_cols = 3\n",
        "num_images = num_rows*num_cols\n",
        "plt.figure(figsize=(2*2*num_cols, 2*num_rows))\n",
        "for i in range(num_images):\n",
        "  plt.subplot(num_rows, 2*num_cols, 2*i+1)\n",
        "  plot_image(i, predictions[i], test_labels, test_images)\n",
        "  plt.subplot(num_rows, 2*num_cols, 2*i+2)\n",
        "  plot_value_array(i, predictions[i], test_labels)\n",
        "plt.tight_layout()\n",
        "plt.show()'''"
      ],
      "execution_count": null,
      "outputs": [
        {
          "output_type": "execute_result",
          "data": {
            "application/vnd.google.colaboratory.intrinsic+json": {
              "type": "string"
            },
            "text/plain": [
              "'num_rows = 5\\nnum_cols = 3\\nnum_images = num_rows*num_cols\\nplt.figure(figsize=(2*2*num_cols, 2*num_rows))\\nfor i in range(num_images):\\n  plt.subplot(num_rows, 2*num_cols, 2*i+1)\\n  plot_image(i, predictions[i], test_labels, test_images)\\n  plt.subplot(num_rows, 2*num_cols, 2*i+2)\\n  plot_value_array(i, predictions[i], test_labels)\\nplt.tight_layout()\\nplt.show()'"
            ]
          },
          "metadata": {
            "tags": []
          },
          "execution_count": 19
        }
      ]
    },
    {
      "cell_type": "code",
      "metadata": {
        "colab": {
          "base_uri": "https://localhost:8080/",
          "height": 35
        },
        "id": "ge8mkgSI1rvl",
        "outputId": "af22ceef-6b1c-4d25-ff8d-0383ce742999"
      },
      "source": [
        "# Grab an image from the test dataset.\n",
        "'''img = test_images[1]\n",
        "print(img.shape)\n",
        "\n",
        "img = (np.expand_dims(img,0))\n",
        "print(img.shape)'''"
      ],
      "execution_count": null,
      "outputs": [
        {
          "output_type": "execute_result",
          "data": {
            "application/vnd.google.colaboratory.intrinsic+json": {
              "type": "string"
            },
            "text/plain": [
              "'img = test_images[1]\\nprint(img.shape)\\n\\nimg = (np.expand_dims(img,0))\\nprint(img.shape)'"
            ]
          },
          "metadata": {
            "tags": []
          },
          "execution_count": 20
        }
      ]
    },
    {
      "cell_type": "code",
      "metadata": {
        "colab": {
          "base_uri": "https://localhost:8080/",
          "height": 35
        },
        "id": "yKxGDJtl1ziI",
        "outputId": "462f0b82-3846-4d90-848a-9b62b95fd8ab"
      },
      "source": [
        "'''plot_value_array(1, predictions_single[0], test_labels)\n",
        "_ = plt.xticks(range(10), class_names, rotation=45)'''"
      ],
      "execution_count": null,
      "outputs": [
        {
          "output_type": "execute_result",
          "data": {
            "application/vnd.google.colaboratory.intrinsic+json": {
              "type": "string"
            },
            "text/plain": [
              "'plot_value_array(1, predictions_single[0], test_labels)\\n_ = plt.xticks(range(10), class_names, rotation=45)'"
            ]
          },
          "metadata": {
            "tags": []
          },
          "execution_count": 21
        }
      ]
    },
    {
      "cell_type": "code",
      "metadata": {
        "id": "eE8AMA0t11tJ"
      },
      "source": [
        "#np.argmax(predictions_single[0])"
      ],
      "execution_count": null,
      "outputs": []
    },
    {
      "cell_type": "code",
      "metadata": {
        "colab": {
          "base_uri": "https://localhost:8080/",
          "height": 69
        },
        "id": "CcV2zgY63IWA",
        "outputId": "1322a5b4-0d2f-4c5b-b607-4fe230d2685e"
      },
      "source": [
        "'''file_list = glob.glob(\"TEST/*.*\")\n",
        "x=[]\n",
        "for each in file_list:\n",
        " img = image.load_img(each, color_mode = \"grayscale\", target_size=(28, 28))\n",
        " img = image.img_to_array(img)\n",
        " img = img.reshape(28, 28)\n",
        " img = img.astype('float32')\n",
        " img = (255-img)/255.0\n",
        " x.append(img)\n",
        " plt.figure()\n",
        " plt.imshow(img , cmap='Greys')\n",
        " plt.grid(False)\n",
        " plt.colorbar()\n",
        " plt.show()\n",
        "x=np.array(x)'''"
      ],
      "execution_count": null,
      "outputs": [
        {
          "output_type": "execute_result",
          "data": {
            "application/vnd.google.colaboratory.intrinsic+json": {
              "type": "string"
            },
            "text/plain": [
              "'file_list = glob.glob(\"TEST/*.*\")\\nx=[]\\nfor each in file_list:\\n img = image.load_img(each, color_mode = \"grayscale\", target_size=(28, 28))\\n img = image.img_to_array(img)\\n img = img.reshape(28, 28)\\n img = img.astype(\\'float32\\')\\n img = (255-img)/255.0\\n x.append(img)\\n plt.figure()\\n plt.imshow(img , cmap=\\'Greys\\')\\n plt.grid(False)\\n plt.colorbar()\\n plt.show()\\nx=np.array(x)'"
            ]
          },
          "metadata": {
            "tags": []
          },
          "execution_count": 23
        }
      ]
    },
    {
      "cell_type": "code",
      "metadata": {
        "colab": {
          "base_uri": "https://localhost:8080/"
        },
        "id": "dUKXt1Ec4vIJ",
        "outputId": "12eafe97-e0ca-4ebc-8467-969fd76c83d8"
      },
      "source": [
        "lbls = ['T-shirt/top', 'Trouser', 'Pullover', 'Dress', 'Coat', 'Sandal', 'Shirt', 'Sneaker', 'Bag', 'Ankle boot']\n",
        "fashion_mnist = keras.datasets.fashion_mnist\n",
        "(train_data, train_lbl), (test_data, test_lbl) = fashion_mnist.load_data()\n",
        "train_data = train_data / 255.0\n",
        "test_data = test_data / 255.0\n",
        "model = keras.Sequential([\n",
        " keras.layers.Flatten(input_shape=(28, 28)),\n",
        " keras.layers.Dense(128, activation='relu'),\n",
        " keras.layers.Dense(10, activation='softmax')])\n",
        "model.compile(optimizer='adam',\n",
        " loss='sparse_categorical_crossentropy',\n",
        " metrics=['accuracy'])\n",
        "model.fit(train_data, train_lbl, epochs=50)"
      ],
      "execution_count": null,
      "outputs": [
        {
          "output_type": "stream",
          "text": [
            "Epoch 1/50\n",
            "1875/1875 [==============================] - 4s 2ms/step - loss: 0.4983 - accuracy: 0.8228\n",
            "Epoch 2/50\n",
            "1875/1875 [==============================] - 4s 2ms/step - loss: 0.3729 - accuracy: 0.8642\n",
            "Epoch 3/50\n",
            "1875/1875 [==============================] - 4s 2ms/step - loss: 0.3360 - accuracy: 0.8772\n",
            "Epoch 4/50\n",
            "1875/1875 [==============================] - 4s 2ms/step - loss: 0.3114 - accuracy: 0.8856\n",
            "Epoch 5/50\n",
            "1875/1875 [==============================] - 4s 2ms/step - loss: 0.2950 - accuracy: 0.8922\n",
            "Epoch 6/50\n",
            "1875/1875 [==============================] - 4s 2ms/step - loss: 0.2784 - accuracy: 0.8968\n",
            "Epoch 7/50\n",
            "1875/1875 [==============================] - 4s 2ms/step - loss: 0.2665 - accuracy: 0.9002\n",
            "Epoch 8/50\n",
            "1875/1875 [==============================] - 4s 2ms/step - loss: 0.2579 - accuracy: 0.9034\n",
            "Epoch 9/50\n",
            "1875/1875 [==============================] - 4s 2ms/step - loss: 0.2466 - accuracy: 0.9086\n",
            "Epoch 10/50\n",
            "1875/1875 [==============================] - 4s 2ms/step - loss: 0.2382 - accuracy: 0.9102\n",
            "Epoch 11/50\n",
            "1875/1875 [==============================] - 4s 2ms/step - loss: 0.2311 - accuracy: 0.9127\n",
            "Epoch 12/50\n",
            "1875/1875 [==============================] - 4s 2ms/step - loss: 0.2247 - accuracy: 0.9154\n",
            "Epoch 13/50\n",
            "1875/1875 [==============================] - 4s 2ms/step - loss: 0.2167 - accuracy: 0.9191\n",
            "Epoch 14/50\n",
            "1875/1875 [==============================] - 4s 2ms/step - loss: 0.2100 - accuracy: 0.9211\n",
            "Epoch 15/50\n",
            "1875/1875 [==============================] - 4s 2ms/step - loss: 0.2061 - accuracy: 0.9232\n",
            "Epoch 16/50\n",
            "1875/1875 [==============================] - 4s 2ms/step - loss: 0.2009 - accuracy: 0.9243\n",
            "Epoch 17/50\n",
            "1875/1875 [==============================] - 4s 2ms/step - loss: 0.1944 - accuracy: 0.9268\n",
            "Epoch 18/50\n",
            "1875/1875 [==============================] - 4s 2ms/step - loss: 0.1899 - accuracy: 0.9281\n",
            "Epoch 19/50\n",
            "1875/1875 [==============================] - 4s 2ms/step - loss: 0.1851 - accuracy: 0.9313\n",
            "Epoch 20/50\n",
            "1875/1875 [==============================] - 4s 2ms/step - loss: 0.1807 - accuracy: 0.9316\n",
            "Epoch 21/50\n",
            "1875/1875 [==============================] - 4s 2ms/step - loss: 0.1747 - accuracy: 0.9338\n",
            "Epoch 22/50\n",
            "1875/1875 [==============================] - 4s 2ms/step - loss: 0.1714 - accuracy: 0.9351\n",
            "Epoch 23/50\n",
            "1875/1875 [==============================] - 4s 2ms/step - loss: 0.1675 - accuracy: 0.9368\n",
            "Epoch 24/50\n",
            "1875/1875 [==============================] - 4s 2ms/step - loss: 0.1645 - accuracy: 0.9375\n",
            "Epoch 25/50\n",
            "1875/1875 [==============================] - 4s 2ms/step - loss: 0.1587 - accuracy: 0.9399\n",
            "Epoch 26/50\n",
            "1875/1875 [==============================] - 4s 2ms/step - loss: 0.1579 - accuracy: 0.9402\n",
            "Epoch 27/50\n",
            "1875/1875 [==============================] - 4s 2ms/step - loss: 0.1526 - accuracy: 0.9421\n",
            "Epoch 28/50\n",
            "1875/1875 [==============================] - 4s 2ms/step - loss: 0.1495 - accuracy: 0.9441\n",
            "Epoch 29/50\n",
            "1875/1875 [==============================] - 4s 2ms/step - loss: 0.1477 - accuracy: 0.9444\n",
            "Epoch 30/50\n",
            "1875/1875 [==============================] - 4s 2ms/step - loss: 0.1439 - accuracy: 0.9452\n",
            "Epoch 31/50\n",
            "1875/1875 [==============================] - 4s 2ms/step - loss: 0.1397 - accuracy: 0.9467\n",
            "Epoch 32/50\n",
            "1875/1875 [==============================] - 4s 2ms/step - loss: 0.1368 - accuracy: 0.9482\n",
            "Epoch 33/50\n",
            "1875/1875 [==============================] - 4s 2ms/step - loss: 0.1347 - accuracy: 0.9487\n",
            "Epoch 34/50\n",
            "1875/1875 [==============================] - 4s 2ms/step - loss: 0.1323 - accuracy: 0.9493\n",
            "Epoch 35/50\n",
            "1875/1875 [==============================] - 4s 2ms/step - loss: 0.1286 - accuracy: 0.9520\n",
            "Epoch 36/50\n",
            "1875/1875 [==============================] - 4s 2ms/step - loss: 0.1268 - accuracy: 0.9523\n",
            "Epoch 37/50\n",
            "1875/1875 [==============================] - 4s 2ms/step - loss: 0.1240 - accuracy: 0.9532\n",
            "Epoch 38/50\n",
            "1875/1875 [==============================] - 4s 2ms/step - loss: 0.1217 - accuracy: 0.9543\n",
            "Epoch 39/50\n",
            "1875/1875 [==============================] - 4s 2ms/step - loss: 0.1193 - accuracy: 0.9550\n",
            "Epoch 40/50\n",
            "1875/1875 [==============================] - 4s 2ms/step - loss: 0.1160 - accuracy: 0.9569\n",
            "Epoch 41/50\n",
            "1875/1875 [==============================] - 4s 2ms/step - loss: 0.1163 - accuracy: 0.9567\n",
            "Epoch 42/50\n",
            "1875/1875 [==============================] - 4s 2ms/step - loss: 0.1116 - accuracy: 0.9575\n",
            "Epoch 43/50\n",
            "1875/1875 [==============================] - 4s 2ms/step - loss: 0.1124 - accuracy: 0.9572\n",
            "Epoch 44/50\n",
            "1875/1875 [==============================] - 4s 2ms/step - loss: 0.1079 - accuracy: 0.9584\n",
            "Epoch 45/50\n",
            "1875/1875 [==============================] - 4s 2ms/step - loss: 0.1061 - accuracy: 0.9604\n",
            "Epoch 46/50\n",
            "1875/1875 [==============================] - 4s 2ms/step - loss: 0.1041 - accuracy: 0.9604\n",
            "Epoch 47/50\n",
            "1875/1875 [==============================] - 4s 2ms/step - loss: 0.1054 - accuracy: 0.9599\n",
            "Epoch 48/50\n",
            "1875/1875 [==============================] - 4s 2ms/step - loss: 0.1004 - accuracy: 0.9620\n",
            "Epoch 49/50\n",
            "1875/1875 [==============================] - 4s 2ms/step - loss: 0.0998 - accuracy: 0.9626\n",
            "Epoch 50/50\n",
            "1875/1875 [==============================] - 4s 2ms/step - loss: 0.1014 - accuracy: 0.9616\n"
          ],
          "name": "stdout"
        },
        {
          "output_type": "execute_result",
          "data": {
            "text/plain": [
              "<tensorflow.python.keras.callbacks.History at 0x7f6f3db1c050>"
            ]
          },
          "metadata": {
            "tags": []
          },
          "execution_count": 24
        }
      ]
    },
    {
      "cell_type": "code",
      "metadata": {
        "colab": {
          "base_uri": "https://localhost:8080/",
          "height": 102
        },
        "id": "Z0stJ7PP9xUF",
        "outputId": "e02e1180-6e38-4d2b-c20e-90bf4f7b6a9e"
      },
      "source": [
        "'''file_list = glob.glob(\"TEST/*.*\")\n",
        "x=[]\n",
        "for each in file_list:\n",
        " img = image.load_img(each, color_mode = \"grayscale\", target_size=(28, 28))\n",
        " img = image.img_to_array(img)\n",
        " img = img.astype('float32')\n",
        " img = img.reshape(28, 28)\n",
        " img = (255-img)/255.0\n",
        " x.append(img)\n",
        "x=np.array(x)\n",
        "result = model.predict_classes(x)\n",
        "for i in range(len(result)):\n",
        " print(lbls[result[i]], result[i])\n",
        "print(result)\n",
        "for i in range(len(result)):\n",
        " plt.figure()\n",
        " plt.imshow(x[i] , cmap='Greys')\n",
        " plt.grid(False)\n",
        " plt.axis('off')\n",
        " plt.colorbar()\n",
        " plt.title(lbls[result[i]])\n",
        " plt.show()'''"
      ],
      "execution_count": null,
      "outputs": [
        {
          "output_type": "execute_result",
          "data": {
            "application/vnd.google.colaboratory.intrinsic+json": {
              "type": "string"
            },
            "text/plain": [
              "'file_list = glob.glob(\"TEST/*.*\")\\nx=[]\\nfor each in file_list:\\n img = image.load_img(each, color_mode = \"grayscale\", target_size=(28, 28))\\n img = image.img_to_array(img)\\n img = img.astype(\\'float32\\')\\n img = img.reshape(28, 28)\\n img = (255-img)/255.0\\n x.append(img)\\nx=np.array(x)\\nresult = model.predict_classes(x)\\nfor i in range(len(result)):\\n print(lbls[result[i]], result[i])\\nprint(result)\\nfor i in range(len(result)):\\n plt.figure()\\n plt.imshow(x[i] , cmap=\\'Greys\\')\\n plt.grid(False)\\n plt.axis(\\'off\\')\\n plt.colorbar()\\n plt.title(lbls[result[i]])\\n plt.show()'"
            ]
          },
          "metadata": {
            "tags": []
          },
          "execution_count": 25
        }
      ]
    },
    {
      "cell_type": "markdown",
      "metadata": {
        "id": "VUFmF20is3Qt"
      },
      "source": [
        "זיהוי על פי צבע וסוג"
      ]
    },
    {
      "cell_type": "code",
      "metadata": {
        "colab": {
          "base_uri": "https://localhost:8080/",
          "height": 319
        },
        "id": "vmZrbAWs_2Sv",
        "outputId": "ab32e45a-607a-4a67-9e01-b723c5ce7fb0"
      },
      "source": [
        "filename = \"/content/drive/MyDrive/Buttoned (29).jpg\"\n",
        "predictedY = []\n",
        "img = cv2.imread(filename)\n",
        "img_features = averagecolor(img)\n",
        "calculated_distances= []\n",
        "for card in (trainX2):\n",
        "    calculated_distances.append(np.linalg.norm(img_features-card))\n",
        "prediction =  trainY2[np.argmin(calculated_distances)]\n",
        "print ('Color:', prediction)\n",
        "filenames.append(filename)\n",
        "plt.imshow(img)\n",
        "\n",
        "x=[]\n",
        "img = image.load_img(filename, color_mode = \"grayscale\", target_size=(28, 28))\n",
        "img = image.img_to_array(img)\n",
        "img = img.reshape(28, 28)\n",
        "img = img.astype('float32')\n",
        "img = (255-img)/255.0\n",
        "x.append(img)\n",
        "x=np.array(x)\n",
        "result = np.argmax(model.predict(x), axis=-1)\n",
        "model.save('/content/drive/MyDrive/Project')\n",
        "for i in range(len(result)):\n",
        " print('Type:', lbls[result[i]])"
      ],
      "execution_count": null,
      "outputs": [
        {
          "output_type": "stream",
          "text": [
            "Color: Black\n",
            "INFO:tensorflow:Assets written to: /content/drive/MyDrive/Project/assets\n",
            "Type: Shirt\n"
          ],
          "name": "stdout"
        },
        {
          "output_type": "display_data",
          "data": {
            "image/png": "[encoded data removed]",
            "text/plain": [
              "<Figure size 432x288 with 1 Axes>"
            ]
          },
          "metadata": {
            "tags": [],
            "needs_background": "light"
          }
        }
      ]
    },
    {
      "cell_type": "markdown",
      "metadata": {
        "id": "N0rPzHDo_2jh"
      },
      "source": [
        ""
      ]
    },
    {
      "cell_type": "code",
      "metadata": {
        "id": "NnXdV_vdcec1"
      },
      "source": [
        "Storage=np.zeros((9, 10))\n",
        "Colors = {'Black':0, 'Blue':1, 'Brown':2, 'Green':3, 'Orange':4, 'Pink':5,'Red':6, 'White':7, 'Yellow':8}\n",
        "prediction\n",
        "result\n",
        "Storage[Colors[prediction],result]=1\n",
        "\n",
        "print(Storage)\n"
      ],
      "execution_count": null,
      "outputs": []
    },
    {
      "cell_type": "code",
      "metadata": {
        "id": "T-bJfxwxrqcw"
      },
      "source": [
        "#install app , just in the first time \n",
        "!pip install -q streamlit"
      ],
      "execution_count": null,
      "outputs": []
    },
    {
      "cell_type": "code",
      "metadata": {
        "id": "nltzV5rosLu9"
      },
      "source": [
        "import streamlit as st\n",
        "import numpy as np\n",
        "from PIL import Image\n",
        "\n",
        "st.title('הפרוייקט של אילאי')\n",
        "st.balloons()\n",
        "st.write(\"בבקשה להעלות תמונה  \")\n",
        "\n",
        "img_file_buffer = st.file_uploader(\"Upload an image\")\n",
        "if img_file_buffer is not None:\n",
        "    image = Image.open(img_file_buffer)\n",
        "    img_array = np.array(image) # if you want to pass it to OpenCV\n",
        "    st.image(image, caption=\"The caption\", use_column_width=True)"
      ],
      "execution_count": null,
      "outputs": []
    },
    {
      "cell_type": "code",
      "metadata": {
        "id": "egRW3iMDsRiE"
      },
      "source": [
        "!ls -la \n",
        "\n",
        "# !ipython nbconvert — to python *.ipynb\n",
        "!streamlit run /content/sample_data/ee.py"
      ],
      "execution_count": null,
      "outputs": []
    },
    {
      "cell_type": "code",
      "metadata": {
        "id": "c9luWSVOsT2G"
      },
      "source": [
        "!pwd"
      ],
      "execution_count": null,
      "outputs": []
    }
  ]
}